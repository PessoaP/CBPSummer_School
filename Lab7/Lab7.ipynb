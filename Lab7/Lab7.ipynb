{
 "cells": [
  {
   "cell_type": "markdown",
   "id": "f23b073b",
   "metadata": {},
   "source": [
    "# Introduction"
   ]
  },
  {
   "cell_type": "markdown",
   "id": "aa6a7121",
   "metadata": {},
   "source": [
    "<div>\n",
    "<img src=\"UBQ_1.png\" width=\"500\"/>\n",
    "</div>"
   ]
  },
  {
   "cell_type": "markdown",
   "id": "03fba0b1",
   "metadata": {},
   "source": [
    "In this notebook we will be reviewing how to calculate the $\\textbf{radius of gyration}$   $R_{gyr}$ and $\\textbf{end-to-end distance} $   $ R_{E2E}$ over a simulation trajectory. In this case, we are analyzing trajectories of the small protein $\\textbf{ubiquitin}$ in water. For reference, the definitions are given below as \n",
    "   \n",
    "   $$R_{gyr} = \\sqrt{\\dfrac{\\sum_i m_i r^2_i}{\\sum_i m_i}}$$\n",
    "   \n",
    "   $$R_{E2E} = |\\mathbf{r}_{end} - \\mathbf{r}_{start}|$$\n",
    "   \n",
    "   where the start and end positions refer to the first and last $\\alpha$-carbons along the backbone of the ubiquitin. The center-of-mass frame will be used for all distances in this notebook, and distances output by MDA are in units of angstroms.\n",
    "\n",
    "Before proceeding, make sure you have the MDAnalysis package properly installed (https://www.mdanalysis.org/pages/installation_quick_start/). If you do, then the following import line should work without issue:"
   ]
  },
  {
   "cell_type": "code",
   "execution_count": 1,
   "id": "407c3f6c",
   "metadata": {},
   "outputs": [],
   "source": [
    "import MDAnalysis as mda\n",
    "from MDAnalysis.analysis.base import *"
   ]
  },
  {
   "cell_type": "markdown",
   "id": "1c7f3865",
   "metadata": {},
   "source": [
    "MDA can be a convenient package for analyzing molecular dynamics simulation data, and is what we will be using in what follows. It has a number of interesting features, but today we will be using it for basic trajectory analysis. For more detail on other uses, visit (https://userguide.mdanalysis.org/stable/examples/quickstart.html)\n",
    "\n",
    "The gist is this: after importing MDA, we simply need to supply the topology and DCD files to a universe object in order to start extracting the data"
   ]
  },
  {
   "cell_type": "code",
   "execution_count": 2,
   "id": "2731d18a",
   "metadata": {},
   "outputs": [
    {
     "data": {
      "text/plain": [
       "<Universe with 7048 atoms>"
      ]
     },
     "execution_count": 2,
     "metadata": {},
     "output_type": "execute_result"
    }
   ],
   "source": [
    "long = mda.Universe(\"../1ubq-LAB/molPdbPsf/1ubq.psf\",  # topology file\n",
    "                     \"../1ubq-DCD/5000Frames/1ubqNVT.dcd\") # trajectory file\n",
    "\n",
    "long"
   ]
  },
  {
   "cell_type": "markdown",
   "id": "c439ca20",
   "metadata": {},
   "source": [
    "This object has conveniently indexed all the information we'd like to obtain, we simply need to ask for it in the right way. For example, we can select and evaluate different components of the system:"
   ]
  },
  {
   "cell_type": "code",
   "execution_count": 17,
   "id": "31ea5a04",
   "metadata": {},
   "outputs": [
    {
     "data": {
      "text/plain": [
       "<AtomGroup with 1231 atoms>"
      ]
     },
     "execution_count": 17,
     "metadata": {},
     "output_type": "execute_result"
    }
   ],
   "source": [
    "protein = long.select_atoms(\"protein\")\n",
    "protein"
   ]
  },
  {
   "cell_type": "code",
   "execution_count": 22,
   "id": "26edbb0a",
   "metadata": {},
   "outputs": [
    {
     "data": {
      "text/plain": [
       "array([  7.4791136,  -1.4069165, -20.212053 ], dtype=float32)"
      ]
     },
     "execution_count": 22,
     "metadata": {},
     "output_type": "execute_result"
    }
   ],
   "source": [
    "protein.positions[0] # The position of the first atom in the selection 'protein'"
   ]
  },
  {
   "cell_type": "code",
   "execution_count": 14,
   "id": "8f3de687",
   "metadata": {},
   "outputs": [
    {
     "data": {
      "text/plain": [
       "array([14.007 ,  1.008 ,  1.008 , ..., 12.011 , 15.9994, 15.9994])"
      ]
     },
     "execution_count": 14,
     "metadata": {},
     "output_type": "execute_result"
    }
   ],
   "source": [
    "protein.masses # A list of masses"
   ]
  },
  {
   "cell_type": "code",
   "execution_count": 15,
   "id": "6f59f648",
   "metadata": {},
   "outputs": [
    {
     "data": {
      "text/plain": [
       "1"
      ]
     },
     "execution_count": 15,
     "metadata": {},
     "output_type": "execute_result"
    }
   ],
   "source": [
    "protein.resids[0] # First residue number"
   ]
  },
  {
   "cell_type": "code",
   "execution_count": 16,
   "id": "0df7727a",
   "metadata": {},
   "outputs": [
    {
     "data": {
      "text/plain": [
       "76"
      ]
     },
     "execution_count": 16,
     "metadata": {},
     "output_type": "execute_result"
    }
   ],
   "source": [
    "protein.resids[-1] # Last residue number"
   ]
  },
  {
   "cell_type": "code",
   "execution_count": 11,
   "id": "165ebe39",
   "metadata": {},
   "outputs": [
    {
     "data": {
      "text/plain": [
       "(<AtomGroup with 1 atom>, <AtomGroup with 1 atom>)"
      ]
     },
     "execution_count": 11,
     "metadata": {},
     "output_type": "execute_result"
    }
   ],
   "source": [
    "start = protein.select_atoms(\"name CA and resid 1\")\n",
    "end = protein.select_atoms(\"name CA and resid 76\")  # C-alpha of the last residue\n",
    "start, end"
   ]
  },
  {
   "cell_type": "markdown",
   "id": "0e9e4c42",
   "metadata": {},
   "source": [
    "# Exercise 1: Radius of Gyration"
   ]
  },
  {
   "cell_type": "markdown",
   "id": "f6045e66",
   "metadata": {},
   "source": [
    "Next, we will generate an analysis method by defining a function whose input is an $\\textbf{atomgroup}$ (i.e. a selection of atoms) from an individual frame of the trajectory file. Running the method will then apply this function to each frame and return the complete dataset.\n",
    "\n",
    "To start, we define the radius of gyration as a function of a single frame using the mathematical definition above:"
   ]
  },
  {
   "cell_type": "code",
   "execution_count": null,
   "id": "52011cd2",
   "metadata": {},
   "outputs": [],
   "source": [
    "def Rgyr(atomgroup):\n",
    "    return "
   ]
  },
  {
   "cell_type": "markdown",
   "id": "dc8ab4a1",
   "metadata": {},
   "source": [
    "The template above is bare bones, and in principle additional parameters can be added to speed up the overall analysis. This is left as an exercise to the student."
   ]
  },
  {
   "cell_type": "code",
   "execution_count": null,
   "id": "55546c21",
   "metadata": {},
   "outputs": [],
   "source": [
    "rog = AnalysisFromFunction(Rgyr, long.trajectory,\n",
    "                           protein)\n",
    "rog.run(verbose=True);"
   ]
  },
  {
   "cell_type": "markdown",
   "id": "23ed3210",
   "metadata": {},
   "source": [
    "After obtaining the data, save it somewhere you will remember."
   ]
  },
  {
   "cell_type": "code",
   "execution_count": null,
   "id": "a83c1e74",
   "metadata": {},
   "outputs": [],
   "source": [
    "N = len(rog.results[\"timeseries\"])\n",
    "ROG = [rog.results[\"timeseries\"][i][0] for i in range(N)] # list comprehension\n",
    "np.savetxt(\"ROG_long.dat\", ROG)                           # Save results for later"
   ]
  },
  {
   "cell_type": "markdown",
   "id": "574e54b2",
   "metadata": {},
   "source": [
    "# Exercise 2: End-to-end distance"
   ]
  },
  {
   "cell_type": "markdown",
   "id": "21841ccc",
   "metadata": {},
   "source": [
    "Hopefully that was not too tricky! Let's repeat the process, but now with the end-to-end distance:"
   ]
  },
  {
   "cell_type": "code",
   "execution_count": null,
   "id": "d36f103d",
   "metadata": {},
   "outputs": [],
   "source": [
    "def E2E_distance(atomgroup):\n",
    "    return"
   ]
  },
  {
   "cell_type": "code",
   "execution_count": null,
   "id": "d3158295",
   "metadata": {},
   "outputs": [],
   "source": [
    "e2e = AnalysisFromFunction(E2E_distance, long.trajectory, protein)\n",
    "e2e.run(verbose=True);"
   ]
  },
  {
   "cell_type": "code",
   "execution_count": null,
   "id": "57661110",
   "metadata": {},
   "outputs": [],
   "source": [
    "E2E = e2e.results['timeseries'] # Extract the data we want from results\n",
    "np.savetxt(\"E2E_distance.dat\", E2E) # Save that data for later"
   ]
  },
  {
   "cell_type": "markdown",
   "id": "d0c29003",
   "metadata": {},
   "source": [
    "# Basic plotting"
   ]
  },
  {
   "cell_type": "markdown",
   "id": "f4943c19",
   "metadata": {},
   "source": [
    "Now that we have the data we can take a quick look at it using PyPlot"
   ]
  },
  {
   "cell_type": "code",
   "execution_count": 23,
   "id": "67ca65fe",
   "metadata": {},
   "outputs": [],
   "source": [
    "import matplotlib.pyplot as plt"
   ]
  },
  {
   "cell_type": "code",
   "execution_count": null,
   "id": "a0a8c742",
   "metadata": {},
   "outputs": [],
   "source": [
    "plt.plot(ROG)\n",
    "plt.ylim(11.5, 12.5)\n",
    "\n",
    "plt.xlabel(\"Frame #\", fontsize=16)\n",
    "plt.ylabel(r\"Radius of gyration, $\\AA$\", fontsize=16)\n",
    "plt.tight_layout()\n",
    "plt.savefig(\"ROG_long.png\")"
   ]
  },
  {
   "cell_type": "code",
   "execution_count": null,
   "id": "829d1ff1",
   "metadata": {},
   "outputs": [],
   "source": [
    "plt.plot(E2E)\n",
    "plt.ylim(30, 42)\n",
    "\n",
    "plt.xlabel(\"Frame #\", fontsize=16)\n",
    "plt.ylabel(r\"End-to-end distance, $\\AA$\", fontsize=16)\n",
    "plt.tight_layout()\n",
    "plt.savefig(\"E2E_long.png\")"
   ]
  },
  {
   "cell_type": "code",
   "execution_count": null,
   "id": "8cb44fb0",
   "metadata": {},
   "outputs": [],
   "source": [
    "plt.hist(ROG, bins=100)\n",
    "\n",
    "plt.ylabel(\"Counts\", fontsize=16)\n",
    "plt.xlabel(r\"Radius of gyration, $\\AA$\", fontsize=16)\n",
    "plt.tight_layout()\n",
    "plt.savefig(\"ROG_hist.png\")"
   ]
  },
  {
   "cell_type": "code",
   "execution_count": null,
   "id": "d7fe04b6",
   "metadata": {},
   "outputs": [],
   "source": [
    "plt.hist(E2E, bins=100)\n",
    "\n",
    "plt.ylabel(\"Counts\", fontsize=16)\n",
    "plt.xlabel(r\"End-to-end distance, $\\AA$\", fontsize=16)\n",
    "plt.tight_layout()\n",
    "plt.savefig(\"E2E_hist.png\")"
   ]
  }
 ],
 "metadata": {
  "kernelspec": {
   "display_name": "Python 3 (ipykernel)",
   "language": "python",
   "name": "python3"
  },
  "language_info": {
   "codemirror_mode": {
    "name": "ipython",
    "version": 3
   },
   "file_extension": ".py",
   "mimetype": "text/x-python",
   "name": "python",
   "nbconvert_exporter": "python",
   "pygments_lexer": "ipython3",
   "version": "3.9.10"
  }
 },
 "nbformat": 4,
 "nbformat_minor": 5
}
